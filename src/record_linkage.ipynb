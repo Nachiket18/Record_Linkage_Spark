{
 "cells": [
  {
   "cell_type": "code",
   "execution_count": 2,
   "metadata": {},
   "outputs": [
    {
     "name": "stdout",
     "output_type": "stream",
     "text": [
      "Loading Spark\n"
     ]
    },
    {
     "name": "stderr",
     "output_type": "stream",
     "text": [
      "Setting default log level to \"WARN\".\n",
      "To adjust logging level use sc.setLogLevel(newLevel). For SparkR, use setLogLevel(newLevel).\n",
      "25/03/17 21:50:29 WARN NativeCodeLoader: Unable to load native-hadoop library for your platform... using builtin-java classes where applicable\n"
     ]
    }
   ],
   "source": [
    "import pandas as pd\n",
    "from pyspark.sql import SparkSession\n",
    "from pyspark.sql.functions import col,udf\n",
    "from pyspark.sql.functions import monotonically_increasing_id\n",
    "from pyspark.sql.types import ArrayType, StringType\n",
    "\n",
    "import pseudopeople as pseudo\n",
    "\n",
    "print(\"Loading Spark\")\n",
    "spark = SparkSession.builder.appName(\"Record Linkage\").config(\"spark.memory.offHeap.enabled\",\"true\").config(\"spark.memory.offHeap.size\",\"10g\").getOrCreate()\n"
   ]
  },
  {
   "cell_type": "code",
   "execution_count": 3,
   "metadata": {},
   "outputs": [
    {
     "name": "stdout",
     "output_type": "stream",
     "text": [
      "Generating Pseudopeople Data\n"
     ]
    }
   ],
   "source": [
    "print(\"Generating Pseudopeople Data\")\n",
    "src_1 = '/home/nachiket/RLA_CL_EXTRACT/data/pse/pse_sample4.1.1'\n",
    "src_2 = '/home/nachiket/RLA_CL_EXTRACT/data/pse/pse_sample4.1.2'\n",
    "df_1 = spark.read.csv(src_1, header=True, sep='\\t')\n",
    "df_2 = spark.read.csv(src_2, header=True, sep='\\t')"
   ]
  },
  {
   "cell_type": "code",
   "execution_count": 6,
   "metadata": {},
   "outputs": [],
   "source": [
    "'''\n",
    "Sorting and combining the dataset\n",
    "\n",
    "''' \n",
    "\n",
    "df_1.sort(col(\"last_name\"),col(\"first_name\"),col(\"middle_initial\"),col(\"age\"),col(\"street_name\"))\n",
    "df_2.sort(col(\"last_name\"),col(\"first_name\"),col(\"middle_initial\"),col(\"age\"),col(\"street_name\"))\n",
    "\n",
    "df_sorted = df_1.union(df_2)\n",
    "\n"
   ]
  },
  {
   "cell_type": "code",
   "execution_count": 7,
   "metadata": {},
   "outputs": [
    {
     "name": "stdout",
     "output_type": "stream",
     "text": [
      "+-----------+----------+--------------+---------+---+-------------+-------------+------------+-----------+------------+-----+-------+----------------------------+------+--------------+\n",
      "|simulant_id|first_name|middle_initial|last_name|age|date_of_birth|street_number| street_name|unit_number|        city|state|zipcode|relation_to_reference_person|   sex|race_ethnicity|\n",
      "+-----------+----------+--------------+---------+---+-------------+-------------+------------+-----------+------------+-----+-------+----------------------------+------+--------------+\n",
      "|3298_700403|    Joshua|             H|     Nava| 20|   04/21/1999|          nan|    pansy rd|        nan|  portsmouth|   RI|  02852|        Noninstitutionali...|  Male|         White|\n",
      "|4943_978644|   William|             C|  Acevedo| 50|   03/18/1970|         1710|flying a trl|        nan|         nan|   RI|  02864|        Noninstitutionali...|  Male|        Latino|\n",
      "|  734_60972|     Kenny|             J|   Gatian| 32|   06/14/1988|        12132|  granrud ln|        nan|    cranston|   RI|  02809|              Opp-sex spouse|  Male|         White|\n",
      "|  734_60972|     Kehny|             J|   Gatian| 32|   06/14/1988|        12132|  granrud ln|        nan|    cranston|   RI|  02809|              Opp-sex spouse|  Male|         White|\n",
      "|8734_921614|    Angela|             L|  Kennedy| 51|   02/18/1969|         1050|   sunset pl|        nan|burrillville|   RI|  02863|            Reference person|Female|         Black|\n",
      "+-----------+----------+--------------+---------+---+-------------+-------------+------------+-----------+------------+-----+-------+----------------------------+------+--------------+\n",
      "only showing top 5 rows\n",
      "\n"
     ]
    }
   ],
   "source": [
    "df_2.show(5)"
   ]
  },
  {
   "cell_type": "code",
   "execution_count": 8,
   "metadata": {},
   "outputs": [],
   "source": [
    "\n",
    "'''\n",
    "Deduplicated dataset generation\n",
    "'''\n",
    "\n",
    "df_deduplicated = df_sorted.drop_duplicates(subset= list(df_sorted.columns)[1:])\n",
    "\n",
    "#df_2_new.sort(col(\"simulant_id\")).show(100)\n",
    "\n"
   ]
  },
  {
   "cell_type": "code",
   "execution_count": 9,
   "metadata": {},
   "outputs": [
    {
     "name": "stderr",
     "output_type": "stream",
     "text": [
      "[Stage 5:>                                                          (0 + 1) / 1]\r"
     ]
    },
    {
     "name": "stdout",
     "output_type": "stream",
     "text": [
      "+------------+----------+--------------+---------+---+-------------+-------------+-------------------+-----------+------------+-----+-------+----------------------------+------+--------------+--------------------+\n",
      "| simulant_id|first_name|middle_initial|last_name|age|date_of_birth|street_number|        street_name|unit_number|        city|state|zipcode|relation_to_reference_person|   sex|race_ethnicity|               kmers|\n",
      "+------------+----------+--------------+---------+---+-------------+-------------+-------------------+-----------+------------+-----+-------+----------------------------+------+--------------+--------------------+\n",
      "|  6760_48339|         A|             M|  Lindsey|  4|   12/31/2015|          604|           c.r. 655|        nan|     warwick|   RI|  02914|              Other relative|  Male|           nan|[Lin, ind, nds, d...|\n",
      "|  7016_43372|         A|             M| Jauregui| 17|   01/11/2003|         1509|          timber dr|        nan|    westerly|   RI|  02907|            Biological child|Female|           nan|[Jau, aur, ure, r...|\n",
      "| 6975_353391|  AWikliam|             M|     Hook| 46|   05/16/1973|           16|     wagon wheel wy|        nan|   glocester|   RI|    nan|              Opp-sex spouse|  Male|         White|          [Hoo, ook]|\n",
      "| 5670_663599|     Aadon|             N|  Griffin| 28|   07/24/1991|         1900|       thorngate dr|        nan|    westerly|   RI|  02852|           Other nonrelative|  Male|         White|[Gri, rif, iff, f...|\n",
      "|  734_270971|     Aafon|             J|     Tarr| 29|   12/15/1990|           91|          fulhon ln|        nan|  middletown|   RI|  02886|              Opp-sex spouse|  Male|         White|          [Tar, arr]|\n",
      "|8628_1017723|   Aaliyah|             M|    Young|  0|   01/13/2020|         1111|          n 70th st|        nan|   hopkinton|   RI|  02911|           Other nonrelative|Female|         White|     [You, oun, ung]|\n",
      "| 7164_676344|   Aaliyah|             E|   Cobian| 16|   06/09/2003|         1277|          w kino dr|        nan|  portsmouth|   RI|  02908|                  Grandchild|Female|        Latino|[Cob, obi, bia, ian]|\n",
      "| 6554_657053|   Aaliyah|             L|  Dorsett| 13|   03/14/2007|         4001|mitchells chapel rd|        nan|west warwick|   RI|  02879|            Biological child|Female|         White|[Dor, ors, rse, s...|\n",
      "| 3481_413846|  Aamantha|             G|Castaneda| 30|   09/28/1989|          215|       n ellison dr|        nan|     lincoln|   RI|  02904|            Biological child|Female|        Latino|[Cas, ast, sta, t...|\n",
      "| 5619_819070|  Aamantta|             J|     Gwin| 22|   07/22/1997|      nº 1867|   wild stallion dr|        nan|  providence|   RI|  02809|            Biological child|Female|         White|          [Gwi, win]|\n",
      "+------------+----------+--------------+---------+---+-------------+-------------+-------------------+-----------+------------+-----+-------+----------------------------+------+--------------+--------------------+\n",
      "only showing top 10 rows\n",
      "\n"
     ]
    },
    {
     "name": "stderr",
     "output_type": "stream",
     "text": [
      "                                                                                \r"
     ]
    }
   ],
   "source": [
    "\n",
    "'''\n",
    "Generate K-mers for the deduplicated dataset on last_name column\n",
    "K =  3\n",
    "\n",
    "'''\n",
    "\n",
    "k = 3\n",
    "\n",
    "def generate_k_mer(str_d):\n",
    "    if len(str_d) <= k:\n",
    "        return [str_d]\n",
    "\n",
    "    return [str_d[i:i+k] for i in range(0, len(str_d)-(k-1))]\n",
    "\n",
    "\n",
    "kmer_udf = udf(lambda seq: generate_k_mer(seq), ArrayType(StringType()))\n",
    "\n",
    "df_2_new = df_deduplicated.withColumn(\"kmers\", kmer_udf(col(\"last_name\")))\n",
    "\n",
    "df_2_new.show(10)\n",
    "\n"
   ]
  },
  {
   "cell_type": "code",
   "execution_count": 10,
   "metadata": {},
   "outputs": [],
   "source": [
    "## Blocking Code\n",
    "\n",
    "from pyspark.sql.types import MapType,IntegerType\n",
    "\n",
    "## 1. Add index to the dataframe\n",
    "## 2. Determine the datatype in the value of the MapType declared below\n",
    "## 3. Go through all the k-mers and do blocking\n",
    "\n",
    "map_type_non_nullable = MapType(StringType(), ArrayType(IntegerType(),False), False)\n",
    "\n",
    "\n"
   ]
  }
 ],
 "metadata": {
  "kernelspec": {
   "display_name": "Python 3",
   "language": "python",
   "name": "python3"
  },
  "language_info": {
   "codemirror_mode": {
    "name": "ipython",
    "version": 3
   },
   "file_extension": ".py",
   "mimetype": "text/x-python",
   "name": "python",
   "nbconvert_exporter": "python",
   "pygments_lexer": "ipython3",
   "version": "3.10.12"
  }
 },
 "nbformat": 4,
 "nbformat_minor": 2
}
