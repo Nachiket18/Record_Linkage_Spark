{
 "cells": [
  {
   "cell_type": "code",
   "execution_count": 36,
   "metadata": {},
   "outputs": [
    {
     "name": "stdout",
     "output_type": "stream",
     "text": [
      "Loading Spark\n"
     ]
    }
   ],
   "source": [
    "import pandas as pd\n",
    "from pyspark.sql import SparkSession\n",
    "from pyspark.sql.functions import col\n",
    "from pyspark.sql.functions import monotonically_increasing_id\n",
    "import pseudopeople as pseudo\n",
    "\n",
    "print(\"Loading Spark\")\n",
    "spark = SparkSession.builder.appName(\"Record Linkage\").config(\"spark.memory.offHeap.enabled\",\"true\").config(\"spark.memory.offHeap.size\",\"10g\").getOrCreate()\n"
   ]
  },
  {
   "cell_type": "code",
   "execution_count": 37,
   "metadata": {},
   "outputs": [
    {
     "name": "stdout",
     "output_type": "stream",
     "text": [
      "Generating Pseudopeople Data\n"
     ]
    }
   ],
   "source": [
    "print(\"Generating Pseudopeople Data\")\n",
    "\n",
    "df_1 = spark.read.csv(\"/home/Ankith/RecordLinkage_Spark/Record_Linkage_Spark/src/pse_sample4.1.1.csv\", header=True, sep='\\t')\n",
    "df_2 = spark.read.csv(\"/home/Ankith/RecordLinkage_Spark/Record_Linkage_Spark/src/pse_sample4.1.2.csv\", header=True, sep='\\t')"
   ]
  },
  {
   "cell_type": "code",
   "execution_count": 38,
   "metadata": {},
   "outputs": [
    {
     "name": "stdout",
     "output_type": "stream",
     "text": [
      "+------------+----------+--------------+---------+---+-------------+-------------+-------------+------------+----------+-----+-------+----------------------------+------+--------------+\n",
      "| simulant_id|first_name|middle_initial|last_name|age|date_of_birth|street_number|  street_name| unit_number|      city|state|zipcode|relation_to_reference_person|   sex|race_ethnicity|\n",
      "+------------+----------+--------------+---------+---+-------------+-------------+-------------+------------+----------+-----+-------+----------------------------+------+--------------+\n",
      "|9402_1006023|   Allisom|             M|        A|  0|   05/04/2019|         2415|    dale st s|office # 308|providence|   RI|  02833|            Biological child|Female|         White|\n",
      "|9402_1006023|   Allison|             M|        A|  0|   05/04/2019|         2415|    dale st s|office # 308|providence|   RI|  02833|            Biological child|Female|         White|\n",
      "|1299_1016030|    Alyssa|             M|        A| 18|   01/16/2002|        35750|   stearns st|         nan|   newport|   RI|  02895|           Other nonrelative|Female|         White|\n",
      "| 1091_240060|    Amanda|             T|        A| 38|   09/27/1981|         2101|  bassett ave|         nan|  coventry|   RI|  02909|            Reference person|Female|         Black|\n",
      "| 1933_229727|    Arlene|             K|        A| 49|   09/13/1970|        19814|old warren rd|         nan|  tiverton|   RI|  02860|            Reference person|Female|         White|\n",
      "+------------+----------+--------------+---------+---+-------------+-------------+-------------+------------+----------+-----+-------+----------------------------+------+--------------+\n",
      "only showing top 5 rows\n",
      "\n",
      "+-----------+----------+--------------+---------+---+-------------+-------------+------------+-----------+------------+-----+-------+----------------------------+------+--------------+\n",
      "|simulant_id|first_name|middle_initial|last_name|age|date_of_birth|street_number| street_name|unit_number|        city|state|zipcode|relation_to_reference_person|   sex|race_ethnicity|\n",
      "+-----------+----------+--------------+---------+---+-------------+-------------+------------+-----------+------------+-----+-------+----------------------------+------+--------------+\n",
      "|3298_700403|    Joshua|             H|     Nava| 20|   04/21/1999|          nan|    pansy rd|        nan|  portsmouth|   RI|  02852|        Noninstitutionali...|  Male|         White|\n",
      "|4943_978644|   William|             C|  Acevedo| 50|   03/18/1970|         1710|flying a trl|        nan|         nan|   RI|  02864|        Noninstitutionali...|  Male|        Latino|\n",
      "|  734_60972|     Kenny|             J|   Gatian| 32|   06/14/1988|        12132|  granrud ln|        nan|    cranston|   RI|  02809|              Opp-sex spouse|  Male|         White|\n",
      "|8734_921614|    Angela|             L|  Kennedy| 51|   02/18/1969|         1050|   sunset pl|        nan|burrillville|   RI|  02863|            Reference person|Female|         Black|\n",
      "|5594_143177| Gabrielle|             S|    Husar| 57|   02/15/1963|           21|w pratt boul|        nan|  smithfield|   RI|  02809|              Opp-sex spouse|Female|         White|\n",
      "+-----------+----------+--------------+---------+---+-------------+-------------+------------+-----------+------------+-----+-------+----------------------------+------+--------------+\n",
      "only showing top 5 rows\n",
      "\n"
     ]
    }
   ],
   "source": [
    "df_1.sort(col(\"last_name\"),col(\"first_name\"),col(\"middle_initial\"),col(\"age\"),col(\"street_name\")).show(5)\n",
    "df_1 = df_1.show(5)"
   ]
  },
  {
   "cell_type": "code",
   "execution_count": 45,
   "metadata": {},
   "outputs": [
    {
     "name": "stdout",
     "output_type": "stream",
     "text": [
      "+-----------+----------+--------------+---------+---+-------------+-------------+------------+-----------+------------+-----+-------+----------------------------+------+--------------+\n",
      "|simulant_id|first_name|middle_initial|last_name|age|date_of_birth|street_number| street_name|unit_number|        city|state|zipcode|relation_to_reference_person|   sex|race_ethnicity|\n",
      "+-----------+----------+--------------+---------+---+-------------+-------------+------------+-----------+------------+-----+-------+----------------------------+------+--------------+\n",
      "|3298_700403|    Joshua|             H|     Nava| 20|   04/21/1999|          nan|    pansy rd|        nan|  portsmouth|   RI|  02852|        Noninstitutionali...|  Male|         White|\n",
      "|4943_978644|   William|             C|  Acevedo| 50|   03/18/1970|         1710|flying a trl|        nan|         nan|   RI|  02864|        Noninstitutionali...|  Male|        Latino|\n",
      "|  734_60972|     Kenny|             J|   Gatian| 32|   06/14/1988|        12132|  granrud ln|        nan|    cranston|   RI|  02809|              Opp-sex spouse|  Male|         White|\n",
      "|  734_60972|     Kehny|             J|   Gatian| 32|   06/14/1988|        12132|  granrud ln|        nan|    cranston|   RI|  02809|              Opp-sex spouse|  Male|         White|\n",
      "|8734_921614|    Angela|             L|  Kennedy| 51|   02/18/1969|         1050|   sunset pl|        nan|burrillville|   RI|  02863|            Reference person|Female|         Black|\n",
      "+-----------+----------+--------------+---------+---+-------------+-------------+------------+-----------+------------+-----+-------+----------------------------+------+--------------+\n",
      "only showing top 5 rows\n",
      "\n"
     ]
    }
   ],
   "source": [
    "df_2.show(5)"
   ]
  },
  {
   "cell_type": "code",
   "execution_count": 33,
   "metadata": {},
   "outputs": [
    {
     "name": "stdout",
     "output_type": "stream",
     "text": [
      "+------------+----------+--------------+----------+---+-------------+-------------+-------------------+-----------+---------------+-----+-------+----------------------------+------+--------------+\n",
      "| simulant_id|first_name|middle_initial| last_name|age|date_of_birth|street_number|        street_name|unit_number|           city|state|zipcode|relation_to_reference_person|   sex|race_ethnicity|\n",
      "+------------+----------+--------------+----------+---+-------------+-------------+-------------------+-----------+---------------+-----+-------+----------------------------+------+--------------+\n",
      "|1007_1001056|      Judy|             C| Zimmerman| 31|   10/14/1988|         1957|           ctrl ave|        nan|       scituate|   RI|  02895|              Other relative|Female|         Asian|\n",
      "|1007_1011208|     Milan|             E|    Potter|  0|   08/28/2019|          177|    st clements ave|        nan|      pawtucket|   RI|  02807|                  Grandchild|   nan|         White|\n",
      "|1007_1015136|    Josiah|             L|  Brinkley|  0|   11/15/2019|          941|           candy ln|        nan|       coventry|   RI|  02809|            Biological child|  Male|         White|\n",
      "|1007_1019441| Gabriella|             J|Nidey-Cone|  0|   02/14/2020|         2889|           157th pl|        nan|     woonsocket|   RI|  02891|                  Grandchild|Female|         White|\n",
      "| 1007_106151|    Joshua|             C|  Rockmore| 26|   12/18/1993|          nan|         nicole cir|        nan|        warwick|   RI|  02927|            Reference person|  Male|         White|\n",
      "| 1007_106766|  Jennifer|             C|   Johnson| 44|   07/20/1975|         2915|       baker street|        nan|       cranston|   RI|  02860|            Reference person|Female|         White|\n",
      "| 1007_106767|    Dugene|             J|   Johnson| 44|   12/19/1975|         2915|       baker street|        nan|       cranston|   RI|  02860|              Opp-sex spouse|  Male|         White|\n",
      "| 1007_108071|     Sarxg|             L|     Jones| 38|   02/15/1982|         2261|            01st st|        nan|north kingstown|   RI|  02888|            Biological child|Female|         White|\n",
      "| 1007_108073|    Hayden|             E|     Jones|  4|   09/18/2015|         2261|            01st st|        nan|north kingstown|   RI|  02888|                  Grandchild|Female|         White|\n",
      "| 1007_108957|   Maryann|             M|      Ryan| 68|   04/08/1951|          321|      nrt haven ave|        nan|      glocester|   RI|  02865|              Opp-sex spouse|Female|         White|\n",
      "| 1007_109045|     Susan|             C|       nan| 65|   06/09/1954|          559|     somerset stree|        nan|  wst greenwich|   RI|  02879|            Reference person|Female|         White|\n",
      "| 1007_119226|       nan|             J|      Reid| 74|   09/07/1945|         2060|          73 avenue|        nan|   narragansett|   RI|  02904|              Opp-sex spouse|  Male|         Black|\n",
      "| 1007_121433|    Joshua|             S|   Colbert| 20|   05/28/1999|           14|      snuff mill rd|        nan|        newport|   RI|  02861|            Biological child|  Male|         White|\n",
      "| 1007_126493|     Homer|             K|   Murdoch| 77|   02/26/1943|        37059|         davlin ave|        nan|       coventry|   RI|  02879|            Reference person|  Male|         White|\n",
      "|  1007_12842|    Dennis|             J|   Omalley| 68|   04/03/1951|           71|          30th st w|        nan|     providence|   RI|  02905|            Reference person|  Male|         White|\n",
      "| 1007_137263|   Krystal|             S|   Campana| 28|   01/26/1992|           23|landavo rancho road|        nan|south kingstown|   RI|  02903|            Reference person|Female|         White|\n",
      "| 1007_140898|  Caileigh|             B|    Reagan|  4|   09/08/2065|          112|      sophie circle|        nan|       cranston|   RI|  02904|            Biological child|Female|        Latino|\n",
      "| 1007_146693|  Kimberly|             T|    Hewitt| 39|   06/08/1980|         9959|           grant st|        nan|        warwick|   RI|  02888|            Reference person|Female|         White|\n",
      "| 1007_148891| Domijiqus|             J| Mcalister| 31|   10/22/1988|         2417|     w ocotillko rv|        nan|   burrillville|   RI|  02860|            Reference person|Female|         White|\n",
      "| 1007_151720|   Michael|             M|   Pittman|  7|   05/07/2012|         1124|       wiggins road|        nan|       westerly|   RI|  02809|            Biological child|  Male|         Black|\n",
      "+------------+----------+--------------+----------+---+-------------+-------------+-------------------+-----------+---------------+-----+-------+----------------------------+------+--------------+\n",
      "only showing top 20 rows\n",
      "\n"
     ]
    }
   ],
   "source": [
    "\n",
    "#dropping duplicates from df_\n",
    "df_1_nd = df_1.dropDuplicates(['simulant_id'])\n",
    "df_1_nd.orderBy([\"simulant_id\"]).show()\n"
   ]
  },
  {
   "cell_type": "code",
   "execution_count": 31,
   "metadata": {},
   "outputs": [
    {
     "name": "stdout",
     "output_type": "stream",
     "text": [
      "+------------+-----------+--------------+---------------+---+-------------+-------------+-------------------+-----------+----------------+-----+-------+----------------------------+------+--------------------+\n",
      "| simulant_id| first_name|middle_initial|      last_name|age|date_of_birth|street_number|        street_name|unit_number|            city|state|zipcode|relation_to_reference_person|   sex|      race_ethnicity|\n",
      "+------------+-----------+--------------+---------------+---+-------------+-------------+-------------------+-----------+----------------+-----+-------+----------------------------+------+--------------------+\n",
      "|1007_1001056|       Judy|             C|      Zimmerman| 31|   10/14/1988|         1957|           ctrl ave|        nan|        scituate|   RI|  02895|              Other relative|Female|               Asian|\n",
      "|1007_1011208|      Milan|             E|         Potter|  0|   08/28/2019|          177|    st clements ave|        nan|       pawtucket|   RI|  02807|                  Grandchild|   nan|               White|\n",
      "|1007_1015136|     Josiah|             L|       Brinkley|  0|   11/15/2019|          941|           candy ln|        nan|        coventry|   RI|  02809|            Biological child|  Male|               White|\n",
      "|1007_1019441|  Gabriella|             J|     Nidey-Cone|  0|   02/14/2020|         2889|           157th pl|        nan|      woonsocket|   RI|  02891|                  Grandchild|Female|               White|\n",
      "| 1007_106151|     Joshua|             C|       Rockmore| 26|   12/18/1993|          nan|         nicole cir|        nan|         warwick|   RI|  02927|            Reference person|  Male|               White|\n",
      "| 1007_106766|   Jejnifer|             C|        Johnson| 44|   07/20/1975|         2915|       baker street|        nan|        cranston|   RI|  02860|            Reference person|Female|               White|\n",
      "| 1007_106767|     Eugene|             J|        Johnson| 44|   12/19/1975|         2915|       baker street|        nan|        cranston|   RI|  02860|              Opp-sex spouse|  Male|               White|\n",
      "| 1007_108073|     Hayden|             E|          Jones|  4|   09/18/2015|         2261|            01st st|        nan| north kingstown|   RI|  02888|                  Grandchild|Female|               White|\n",
      "| 1007_108957|    Maryann|             M|           Ryan| 68|   04/08/1951|          321|      nrt haven ave|        nan|       glocester|   RI|  02865|              Opp-sex spouse|Female|               White|\n",
      "| 1007_109045|      Susan|             C|            nan| 65|   06/09/1954|          559|     somerset stree|        nan|   wst greenwich|   RI|  02879|            Reference person|Female|               White|\n",
      "| 1007_114831|     Angrps|             H|      Basmajian| 36|   04/07/1983|          911|         wambplt st|        nan| east providence|   RI|  02840|              Opp-sex spouse|Female|               White|\n",
      "| 1007_119226|        nan|             J|           Reid| 74|   09/07/1945|         2060|          73 avenue|        nan|    narragansett|   RI|  02904|              Opp-sex spouse|  Male|               Black|\n",
      "| 1007_121433|     Joshua|             S|        Colbert| 20|   05/28/1999|           14|      snuff mill rd|        nan|         newport|   RI|  02861|            Biological child|  Male|               White|\n",
      "| 1007_126493|      Homer|             K|        Murdoch| 77|   02/26/1943|        37059|         davlin ave|        nan|        coventry|   RI|  02879|            Reference person|  Male|               White|\n",
      "|  1007_12842|     Dengis|             J|        Omalley| 68|   04/03/1951|           71|          30th st w|        nan|      providence|   RI|  02905|            Reference person|  Male|               White|\n",
      "| 1007_137263|    Krystal|             S|        Campana| 28|   01/26/1992|           23|landavo rancho road|        nan| south kingstown|   RI|  02903|            Reference person|Female|               White|\n",
      "| 1007_140898|   Caileigh|             B|         Reagan|  4|   09/08/2065|          112|      sophie circle|        nan|        cranston|   RI|  02904|            Biological child|Female|              Latino|\n",
      "| 1007_146693|   Kimberly|             T|         Hewitt| 39|   06/08/1980|         9959|           grant st|        nan|         warwick|   RI|  02888|            Reference person|Female|               White|\n",
      "| 1007_151720|    Michael|             M|        Pittman|  7|   05/07/2012|         1124|       wiggins road|        nan|        westerly|   RI|  02809|            Biological child|  Male|               Black|\n",
      "| 1007_151953|    William|             N|        Ferrell| 26|   05/19/1993|          241|        riverside d|        nan|    e providence|   RI|  02816|            Reference person|  Male|               White|\n",
      "|  1007_15223|    Russell|             J|           Diaz| 56|   11/26/1963|           91|       ferndale ave|        nan| prudence island|   RI|  02818|            Reference person|  Male|              Latino|\n",
      "| 1007_155290|     Robert|             S|           Gold| 33|   09/27/1986|          nan|      andromeda cir|        nan|      middletown|   RI|  02860|            Reference person|  Male|               White|\n",
      "| 1007_163108|   Samantha|           nan|          Smith| 21|   05/17/1998|          104|  east lexington st|        nan|          exeter|   RI|  02909|            Biological child|Female|               Black|\n",
      "| 1007_163446|   Resident|           nan|           Crue|nan|   07/25/1957|         4620|         s 288th st|        nan|        cranston|   RI|  02911|            Reference person|Female|              Latino|\n",
      "| 1007_164006|     Thomas|             N|          Young| 23|   11/10/1996|           11|       sw mukai cir|        nan|        coventry|   RI|    nan|                  Grandchild|  Male|                AIAN|\n",
      "| 1007_174298|      Brent|             J|         Martin| 48|   01/23/1972|          nan|                nan|        nan|         warwick|   RI|  02906|            Reference person|  Male|              Latino|\n",
      "| 1007_181763|      Reese|             J|           Pina| 16|   01/25/2004|         1338|     e over look dr|        nan|         lincoln|   RI|  02908|            Biological child|Female|              Latino|\n",
      "| 1007_181764|    Allison|             D|           Pina| 14|   11/10/2005|         1338|     e over look dr|        nan|         lincoln|   RI|  02908|                      Parent|Female|              Latino|\n",
      "| 1007_182046|      Scott|             M|         Galang| 34|   04/13/1985|        21250|               bdwy|        nan|         warwick|   RI|  02909|            Biological child|  Male|               Asian|\n",
      "| 1007_194203|   Fernando|             B|        Wegener| 18|   06/08/2001|        19176|        43rd ave ne|        nan|          warren|   RI|  02860|            Biological child|Female|              Latino|\n",
      "|  1007_19442|   Margaret|             J|       Mitchell| 29|   09/21/1990|          307|   burnt store rd n|        nan|     charlestown|   RI|  02909|              Opp-sex spouse|Female|              Latino|\n",
      "| 1007_194881|     Hannah|             T|          Smith| 18|   08/15/2001|           41|              n a1a|        nan|         warwick|   RI|  02908|            Biological child|Female|               White|\n",
      "| 1007_198778|      Debra|             A|       Anderson| 61|   07/25/1958|        17390|         bayhill wy|        nan|       glocester|   RI|  02889|              Opp-sex spouse|Female|               White|\n",
      "| 1007_210822|      Celia|             C|Villagran Gomez| 49|   06/23/1970|         2432|     w palo brea ln|        nan|        richmond|   RI|  02860|            Reference person|Female|              Latino|\n",
      "| 1007_212434|     Aienna|             N|         Roller| 12|   08/13/2007|         2412|          thames ro|        nan|          warren|   RI|  02919|                  Grandchild|Female|Multiracial or Other|\n",
      "| 1007_217762|       Ange|             D|        Dingess| 64|   01/17/1956|         3100|         wingate ct|        nan|      providence|   RI|  02895|            Reference person|Female|               White|\n",
      "| 1007_237923|Christopher|             W|        Randall| 28|   02/24/1992|         1709|            mohr av|        nan|             nan|   RI|  02895|            Reference person|  Male|               Black|\n",
      "| 1007_240426|      Diane|             D|         Bakken| 74|   02/18/1946|           26|          drake ave|        nan|      middletown|   RI|  02904|              Opp-sex spouse|Female|               Asian|\n",
      "| 1007_240720|  Elizabeth|             L|         Dawson|  3|   08/25/2016|            9|         90th ave s|        nan|north-smithfield|   RI|  02806|            Biological child|Female|               Black|\n",
      "| 1007_248312|   Franklin|             F|           Doby| 46|   10/30/1973|        24165|       inwood drive|        nan|       pawtucket|   RI|  02888|            Reference person|  Male|               White|\n",
      "| 1007_248885|        nan|             C|        Orourke| 73|   01/31/1947|            8|           caper pl|        nan|      providence|   RI|  02809|              Opp-sex spouse|Female|               White|\n",
      "| 1007_249198|     Taylor|             R|          Bloom| 27|   02/05/1993|         1811|        13th street|        nan|        cranston|   RI|  02881|            Reference person|Female|               White|\n",
      "| 1007_252469|        nan|             G|         Callas| 69|   03/07/1951|         1671|   gleneagles drive|        nan|        cranston|   RI|  02906|            Reference person|  Male|               White|\n",
      "|  1007_25698|      Keith|             J|        Johnson| 50|   06/16/1969|         4612|pheasant hill drive|        nan| north kingstown|   RI|  02816|            Reference person|  Male|               White|\n",
      "|  1007_25847|      Kevan|             D|           Koch| 56|   10/21/1963|         1205|          60th dr e|        nan|      portsmouth|   RI|    nan|            Reference person|  Male|               White|\n",
      "| 1007_261332|        Sal|             C|         Garner| 75|  204/12/2571|            9|       broadview rd|        nan|         warwick|   RI|  02895|              Opp-sex spouse|  Male|               White|\n",
      "| 1007_274761|      Grisn|             D|         Carter| 37|   05/26/1982|          150|  herbert boulevard|        nan|      providence|   RI|  02889|            Reference person|  Male|              Latino|\n",
      "| 1007_282159|    Kennedy|             A|         Thomas|  7|   12/26/2012|           14|    rose garden way|        nan|       pawtucket|   RI|  02909|            Biological child|Female|               White|\n",
      "| 1007_283352|       Anna|             P|      Hassinger| 89|   12/19/1930|          427|        flamingo dr|        nan|      portsmouth|   RI|  02893|            Reference person|Female|               White|\n",
      "| 1007_285146|       Judy|             S|          Jones| 51|   04/12/1968|        13122|     prospect vw dr|        nan|      portsmouth|   RI|  02916|              Opp-sex spouse|Female|               White|\n",
      "+------------+-----------+--------------+---------------+---+-------------+-------------+-------------------+-----------+----------------+-----+-------+----------------------------+------+--------------------+\n",
      "only showing top 50 rows\n",
      "\n"
     ]
    }
   ],
   "source": [
    "\n",
    "#Dropping Duplicates from df2\n",
    "df_2_nd = df_2.dropDuplicates(['simulant_id'])\n",
    "df_2_nd.orderBy(col(\"simulant_id\")).show(50)\n",
    "\n"
   ]
  }
 ],
 "metadata": {
  "kernelspec": {
   "display_name": "Python 3",
   "language": "python",
   "name": "python3"
  },
  "language_info": {
   "codemirror_mode": {
    "name": "ipython",
    "version": 3
   },
   "file_extension": ".py",
   "mimetype": "text/x-python",
   "name": "python",
   "nbconvert_exporter": "python",
   "pygments_lexer": "ipython3",
   "version": "3.10.12"
  }
 },
 "nbformat": 4,
 "nbformat_minor": 2
}
