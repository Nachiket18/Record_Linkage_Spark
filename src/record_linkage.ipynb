{
 "cells": [
  {
   "cell_type": "code",
   "execution_count": null,
   "metadata": {},
   "outputs": [],
   "source": [
    "from pyspark.sql import SparkSession\n",
    "from pyspark.sql.functions import col,udf\n",
    "from pyspark.sql.functions import monotonically_increasing_id,max\n",
    "from pyspark.sql.types import ArrayType, StringType\n",
    "from pyspark.sql.functions import explode,lower,monotonically_increasing_id\n",
    "import pyspark.sql.functions as F\n",
    "from pyspark.sql.window import Window\n",
    "\n",
    "import pseudopeople as pseudo\n",
    "\n"
   ]
  },
  {
   "cell_type": "code",
   "execution_count": 40,
   "metadata": {},
   "outputs": [
    {
     "name": "stdout",
     "output_type": "stream",
     "text": [
      "Loading Spark\n"
     ]
    }
   ],
   "source": [
    "print(\"Loading Spark\")\n",
    "spark = SparkSession.builder.appName(\"Record Linkage\").config(\"spark.memory.offHeap.enabled\",\"true\").config(\"spark.memory.offHeap.size\",\"10g\").getOrCreate()\n"
   ]
  },
  {
   "cell_type": "code",
   "execution_count": 41,
   "metadata": {},
   "outputs": [
    {
     "name": "stdout",
     "output_type": "stream",
     "text": [
      "Generating Pseudopeople Data\n"
     ]
    }
   ],
   "source": [
    "print(\"Generating Pseudopeople Data\")\n",
    "src_1 = '/home/nachiket/RLA_CL_EXTRACT/data/pse/pse_sample4.1.1'\n",
    "src_2 = '/home/nachiket/RLA_CL_EXTRACT/data/pse/pse_sample4.1.2'\n",
    "df_1 = spark.read.csv(src_1, header=True, sep='\\t')\n",
    "df_2 = spark.read.csv(src_2, header=True, sep='\\t')"
   ]
  },
  {
   "cell_type": "code",
   "execution_count": null,
   "metadata": {},
   "outputs": [
    {
     "data": {
      "text/plain": [
       "151841"
      ]
     },
     "execution_count": 53,
     "metadata": {},
     "output_type": "execute_result"
    }
   ],
   "source": [
    "'''\n",
    "Sorting and combining the dataset\n",
    "\n",
    "''' \n",
    "\n",
    "df_1.sort(col(\"last_name\"),col(\"first_name\"),col(\"middle_initial\"),col(\"age\"),col(\"street_name\"))\n",
    "df_2.sort(col(\"last_name\"),col(\"first_name\"),col(\"middle_initial\"),col(\"age\"),col(\"street_name\"))\n",
    "\n",
    "df_sorted = df_1.union(df_2)\n",
    "\n",
    "df_sorted.count()\n"
   ]
  },
  {
   "cell_type": "code",
   "execution_count": 54,
   "metadata": {},
   "outputs": [
    {
     "name": "stderr",
     "output_type": "stream",
     "text": [
      "                                                                                \r"
     ]
    },
    {
     "data": {
      "text/plain": [
       "93433"
      ]
     },
     "execution_count": 54,
     "metadata": {},
     "output_type": "execute_result"
    }
   ],
   "source": [
    "\n",
    "'''\n",
    "Deduplicated dataset generation\n",
    "'''\n",
    "\n",
    "df_deduplicated = df_sorted.drop_duplicates(subset= list(df_sorted.columns)[1:])\n",
    "\n",
    "df_deduplicated.count()\n",
    "\n",
    "#df_2_new.sort(col(\"simulant_id\")).show(100)\n",
    "\n"
   ]
  },
  {
   "cell_type": "code",
   "execution_count": 81,
   "metadata": {},
   "outputs": [
    {
     "name": "stderr",
     "output_type": "stream",
     "text": [
      "25/03/18 21:04:17 WARN WindowExec: No Partition Defined for Window operation! Moving all data to a single partition, this can cause serious performance degradation.\n",
      "25/03/18 21:04:17 WARN WindowExec: No Partition Defined for Window operation! Moving all data to a single partition, this can cause serious performance degradation.\n",
      "25/03/18 21:04:17 WARN WindowExec: No Partition Defined for Window operation! Moving all data to a single partition, this can cause serious performance degradation.\n",
      "25/03/18 21:04:18 WARN WindowExec: No Partition Defined for Window operation! Moving all data to a single partition, this can cause serious performance degradation.\n",
      "25/03/18 21:04:18 WARN WindowExec: No Partition Defined for Window operation! Moving all data to a single partition, this can cause serious performance degradation.\n",
      "25/03/18 21:04:18 WARN WindowExec: No Partition Defined for Window operation! Moving all data to a single partition, this can cause serious performance degradation.\n"
     ]
    },
    {
     "name": "stdout",
     "output_type": "stream",
     "text": [
      "+------------+----------+--------------+---------+---+-------------+-------------+-------------------+-----------+------------+-----+-------+----------------------------+------+--------------+--------------------+---+\n",
      "| simulant_id|first_name|middle_initial|last_name|age|date_of_birth|street_number|        street_name|unit_number|        city|state|zipcode|relation_to_reference_person|   sex|race_ethnicity|               kmers| id|\n",
      "+------------+----------+--------------+---------+---+-------------+-------------+-------------------+-----------+------------+-----+-------+----------------------------+------+--------------+--------------------+---+\n",
      "|  6760_48339|         A|             M|  Lindsey|  4|   12/31/2015|          604|           c.r. 655|        nan|     warwick|   RI|  02914|              Other relative|  Male|           nan|[Lin, ind, nds, d...|  1|\n",
      "|  7016_43372|         A|             M| Jauregui| 17|   01/11/2003|         1509|          timber dr|        nan|    westerly|   RI|  02907|            Biological child|Female|           nan|[Jau, aur, ure, r...|  2|\n",
      "| 6975_353391|  AWikliam|             M|     Hook| 46|   05/16/1973|           16|     wagon wheel wy|        nan|   glocester|   RI|    nan|              Opp-sex spouse|  Male|         White|          [Hoo, ook]|  3|\n",
      "| 5670_663599|     Aadon|             N|  Griffin| 28|   07/24/1991|         1900|       thorngate dr|        nan|    westerly|   RI|  02852|           Other nonrelative|  Male|         White|[Gri, rif, iff, f...|  4|\n",
      "|  734_270971|     Aafon|             J|     Tarr| 29|   12/15/1990|           91|          fulhon ln|        nan|  middletown|   RI|  02886|              Opp-sex spouse|  Male|         White|          [Tar, arr]|  5|\n",
      "|8628_1017723|   Aaliyah|             M|    Young|  0|   01/13/2020|         1111|          n 70th st|        nan|   hopkinton|   RI|  02911|           Other nonrelative|Female|         White|     [You, oun, ung]|  6|\n",
      "| 7164_676344|   Aaliyah|             E|   Cobian| 16|   06/09/2003|         1277|          w kino dr|        nan|  portsmouth|   RI|  02908|                  Grandchild|Female|        Latino|[Cob, obi, bia, ian]|  7|\n",
      "| 6554_657053|   Aaliyah|             L|  Dorsett| 13|   03/14/2007|         4001|mitchells chapel rd|        nan|west warwick|   RI|  02879|            Biological child|Female|         White|[Dor, ors, rse, s...|  8|\n",
      "| 3481_413846|  Aamantha|             G|Castaneda| 30|   09/28/1989|          215|       n ellison dr|        nan|     lincoln|   RI|  02904|            Biological child|Female|        Latino|[Cas, ast, sta, t...|  9|\n",
      "| 5619_819070|  Aamantta|             J|     Gwin| 22|   07/22/1997|      nº 1867|   wild stallion dr|        nan|  providence|   RI|  02809|            Biological child|Female|         White|          [Gwi, win]| 10|\n",
      "+------------+----------+--------------+---------+---+-------------+-------------+-------------------+-----------+------------+-----+-------+----------------------------+------+--------------+--------------------+---+\n",
      "only showing top 10 rows\n",
      "\n"
     ]
    },
    {
     "name": "stderr",
     "output_type": "stream",
     "text": [
      "                                                                                \r"
     ]
    }
   ],
   "source": [
    "\n",
    "'''\n",
    "Generate K-mers for the deduplicated dataset on last_name column\n",
    "K =  3\n",
    "\n",
    "'''\n",
    "\n",
    "k = 3\n",
    "\n",
    "def generate_k_mer(str_d):\n",
    "    if len(str_d) <= k:\n",
    "        return [str_d]\n",
    "\n",
    "    return [str_d[i:i+k] for i in range(0, len(str_d)-(k-1))]\n",
    "\n",
    "\n",
    "kmer_udf = udf(lambda seq: generate_k_mer(seq), ArrayType(StringType()))\n",
    "\n",
    "df_2_new = df_deduplicated.withColumn(\"kmers\", kmer_udf(col(\"last_name\")))\n",
    "\n",
    "df_with_kmers = df_2_new.withColumn(\"id\", F.row_number().over(Window.orderBy(monotonically_increasing_id()))) # adds id column\n",
    "\n",
    "df_with_kmers.show(10)\n",
    "\n"
   ]
  },
  {
   "cell_type": "code",
   "execution_count": 83,
   "metadata": {},
   "outputs": [
    {
     "name": "stderr",
     "output_type": "stream",
     "text": [
      "25/03/18 21:05:52 WARN WindowExec: No Partition Defined for Window operation! Moving all data to a single partition, this can cause serious performance degradation.\n",
      "25/03/18 21:05:52 WARN WindowExec: No Partition Defined for Window operation! Moving all data to a single partition, this can cause serious performance degradation.\n",
      "25/03/18 21:05:53 WARN WindowExec: No Partition Defined for Window operation! Moving all data to a single partition, this can cause serious performance degradation.\n",
      "25/03/18 21:05:53 WARN WindowExec: No Partition Defined for Window operation! Moving all data to a single partition, this can cause serious performance degradation.\n",
      "25/03/18 21:05:54 WARN WindowExec: No Partition Defined for Window operation! Moving all data to a single partition, this can cause serious performance degradation.\n",
      "25/03/18 21:05:54 WARN WindowExec: No Partition Defined for Window operation! Moving all data to a single partition, this can cause serious performance degradation.\n",
      "[Stage 237:>                                                        (0 + 1) / 1]\r"
     ]
    },
    {
     "name": "stdout",
     "output_type": "stream",
     "text": [
      "+----+--------------------+\n",
      "|kmer|        list_indices|\n",
      "+----+--------------------+\n",
      "|  ab|[1566, 5910, 9978...|\n",
      "|  ac|      [49122, 73474]|\n",
      "|  af|              [6272]|\n",
      "|  ag|[2250, 2619, 7413...|\n",
      "|  al|[1394, 5879, 8036...|\n",
      "+----+--------------------+\n",
      "only showing top 5 rows\n",
      "\n"
     ]
    },
    {
     "name": "stderr",
     "output_type": "stream",
     "text": [
      "                                                                                \r"
     ]
    }
   ],
   "source": [
    "## Blocking Code\n",
    "\n",
    "\n",
    "\n",
    "## 1. Add index to the dataframe\n",
    "## 2. Determine the datatype in the value of the MapType declared below\n",
    "## 3. Go through all the k-mers and do blocking\n",
    "\n",
    "\n",
    "\n",
    "\n",
    "def do_blocking(df):\n",
    "    # Explode the kmers column to create a (kmer, index) pair for each kmer\n",
    "    exploded_df = df.select(explode(col(\"kmers\")).alias(\"kmer\"), col(\"id\").alias(\"index\"))\n",
    "    \n",
    "    # # Convert kmers to lowercase for consistency\n",
    "    exploded_df = exploded_df.withColumn(\"kmer\", lower(col(\"kmer\")))\n",
    "\n",
    "    # # Group by kmer and collect indices\n",
    "    blocked_df = exploded_df.groupBy(\"kmer\").agg(F.collect_list(\"index\").alias(\"list_indices\"))\n",
    "    return blocked_df\n",
    "\n",
    "\n",
    "blocked_df = do_blocking(df_with_kmers)\n",
    "blocked_df.show(5)\n",
    "\n",
    "\n"
   ]
  },
  {
   "cell_type": "code",
   "execution_count": null,
   "metadata": {},
   "outputs": [],
   "source": [
    "''' \n",
    " NOT IMPLEMENTED YET\n",
    "'''\n",
    "def all_pairs(df):\n",
    "    df_cross = df.withColumnRenamed(\"list_indices\", \"id1\").crossJoin(df.withColumnRenamed(\"list_indices\", \"id2\"))\n",
    "    \n",
    "\n"
   ]
  }
 ],
 "metadata": {
  "kernelspec": {
   "display_name": "Python 3",
   "language": "python",
   "name": "python3"
  },
  "language_info": {
   "codemirror_mode": {
    "name": "ipython",
    "version": 3
   },
   "file_extension": ".py",
   "mimetype": "text/x-python",
   "name": "python",
   "nbconvert_exporter": "python",
   "pygments_lexer": "ipython3",
   "version": "3.10.12"
  }
 },
 "nbformat": 4,
 "nbformat_minor": 2
}
