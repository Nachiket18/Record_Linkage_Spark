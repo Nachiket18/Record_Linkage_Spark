{
 "cells": [
  {
   "cell_type": "code",
   "execution_count": 1,
   "metadata": {},
   "outputs": [
    {
     "name": "stdout",
     "output_type": "stream",
     "text": [
      "Loading Spark\n"
     ]
    },
    {
     "name": "stderr",
     "output_type": "stream",
     "text": [
      "Setting default log level to \"WARN\".\n",
      "To adjust logging level use sc.setLogLevel(newLevel). For SparkR, use setLogLevel(newLevel).\n",
      "25/02/23 14:12:13 WARN NativeCodeLoader: Unable to load native-hadoop library for your platform... using builtin-java classes where applicable\n"
     ]
    }
   ],
   "source": [
    "import pandas as pd\n",
    "from pyspark.sql import SparkSession\n",
    "from pyspark.sql.functions import col\n",
    "from pyspark.sql.functions import monotonically_increasing_id\n",
    "import pseudopeople as pseudo\n",
    "\n",
    "print(\"Loading Spark\")\n",
    "spark = SparkSession.builder.appName(\"Record Linkage\").config(\"spark.memory.offHeap.enabled\",\"true\").config(\"spark.memory.offHeap.size\",\"10g\").getOrCreate()\n"
   ]
  },
  {
   "cell_type": "code",
   "execution_count": 10,
   "metadata": {},
   "outputs": [
    {
     "name": "stdout",
     "output_type": "stream",
     "text": [
      "Generating Pseudopeople Data\n"
     ]
    }
   ],
   "source": [
    "print(\"Generating Pseudopeople Data\")\n",
    "\n",
    "df_1 = spark.read.csv(\"/home/nachiket/RLA_CL_EXTRACT/data/pse/pse_sample4.1.1\", header=True, sep='\\t')\n",
    "df_2 = spark.read.csv(\"/home/nachiket/RLA_CL_EXTRACT/data/pse/pse_sample4.1.2\", header=True, sep='\\t')"
   ]
  },
  {
   "cell_type": "code",
   "execution_count": 11,
   "metadata": {},
   "outputs": [
    {
     "name": "stdout",
     "output_type": "stream",
     "text": [
      "+------------+----------+--------------+---------+---+-------------+-------------+-------------+------------+----------+-----+-------+----------------------------+------+--------------+\n",
      "| simulant_id|first_name|middle_initial|last_name|age|date_of_birth|street_number|  street_name| unit_number|      city|state|zipcode|relation_to_reference_person|   sex|race_ethnicity|\n",
      "+------------+----------+--------------+---------+---+-------------+-------------+-------------+------------+----------+-----+-------+----------------------------+------+--------------+\n",
      "|9402_1006023|   Allisom|             M|        A|  0|   05/04/2019|         2415|    dale st s|office # 308|providence|   RI|  02833|            Biological child|Female|         White|\n",
      "|9402_1006023|   Allison|             M|        A|  0|   05/04/2019|         2415|    dale st s|office # 308|providence|   RI|  02833|            Biological child|Female|         White|\n",
      "|1299_1016030|    Alyssa|             M|        A| 18|   01/16/2002|        35750|   stearns st|         nan|   newport|   RI|  02895|           Other nonrelative|Female|         White|\n",
      "| 1091_240060|    Amanda|             T|        A| 38|   09/27/1981|         2101|  bassett ave|         nan|  coventry|   RI|  02909|            Reference person|Female|         Black|\n",
      "| 1933_229727|    Arlene|             K|        A| 49|   09/13/1970|        19814|old warren rd|         nan|  tiverton|   RI|  02860|            Reference person|Female|         White|\n",
      "+------------+----------+--------------+---------+---+-------------+-------------+-------------+------------+----------+-----+-------+----------------------------+------+--------------+\n",
      "only showing top 5 rows\n",
      "\n",
      "+-----------+----------+--------------+---------+---+-------------+-------------+------------+-----------+------------+-----+-------+----------------------------+------+--------------+\n",
      "|simulant_id|first_name|middle_initial|last_name|age|date_of_birth|street_number| street_name|unit_number|        city|state|zipcode|relation_to_reference_person|   sex|race_ethnicity|\n",
      "+-----------+----------+--------------+---------+---+-------------+-------------+------------+-----------+------------+-----+-------+----------------------------+------+--------------+\n",
      "|3298_700403|    Joshua|             H|     Nava| 20|   04/21/1999|          nan|    pansy rd|        nan|  portsmouth|   RI|  02852|        Noninstitutionali...|  Male|         White|\n",
      "|4943_978644|   William|             C|  Acevedo| 50|   03/18/1970|         1710|flying a trl|        nan|         nan|   RI|  02864|        Noninstitutionali...|  Male|        Latino|\n",
      "|  734_60972|     Kenny|             J|   Gatian| 32|   06/14/1988|        12132|  granrud ln|        nan|    cranston|   RI|  02809|              Opp-sex spouse|  Male|         White|\n",
      "|8734_921614|    Angela|             L|  Kennedy| 51|   02/18/1969|         1050|   sunset pl|        nan|burrillville|   RI|  02863|            Reference person|Female|         Black|\n",
      "|5594_143177| Gabrielle|             S|    Husar| 57|   02/15/1963|           21|w pratt boul|        nan|  smithfield|   RI|  02809|              Opp-sex spouse|Female|         White|\n",
      "+-----------+----------+--------------+---------+---+-------------+-------------+------------+-----------+------------+-----+-------+----------------------------+------+--------------+\n",
      "only showing top 5 rows\n",
      "\n"
     ]
    }
   ],
   "source": [
    "df_1.sort(col(\"last_name\"),col(\"first_name\"),col(\"middle_initial\"),col(\"age\"),col(\"street_name\")).show(5)\n",
    "df_1 = df_1.show(5)\n"
   ]
  }
 ],
 "metadata": {
  "kernelspec": {
   "display_name": "Python 3",
   "language": "python",
   "name": "python3"
  },
  "language_info": {
   "codemirror_mode": {
    "name": "ipython",
    "version": 3
   },
   "file_extension": ".py",
   "mimetype": "text/x-python",
   "name": "python",
   "nbconvert_exporter": "python",
   "pygments_lexer": "ipython3",
   "version": "3.10.12"
  }
 },
 "nbformat": 4,
 "nbformat_minor": 2
}
