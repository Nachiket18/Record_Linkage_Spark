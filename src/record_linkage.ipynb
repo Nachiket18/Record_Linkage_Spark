{
 "cells": [
  {
   "cell_type": "code",
   "execution_count": 1,
   "metadata": {},
   "outputs": [
    {
     "name": "stdout",
     "output_type": "stream",
     "text": [
      "Loading Spark\n"
     ]
    },
    {
     "name": "stderr",
     "output_type": "stream",
     "text": [
      "Setting default log level to \"WARN\".\n",
      "To adjust logging level use sc.setLogLevel(newLevel). For SparkR, use setLogLevel(newLevel).\n",
      "25/03/01 21:38:23 WARN NativeCodeLoader: Unable to load native-hadoop library for your platform... using builtin-java classes where applicable\n"
     ]
    }
   ],
   "source": [
    "import pandas as pd\n",
    "from pyspark.sql import SparkSession\n",
    "from pyspark.sql.functions import col,udf\n",
    "from pyspark.sql.functions import monotonically_increasing_id\n",
    "from pyspark.sql.types import ArrayType, StringType\n",
    "\n",
    "import pseudopeople as pseudo\n",
    "\n",
    "print(\"Loading Spark\")\n",
    "spark = SparkSession.builder.appName(\"Record Linkage\").config(\"spark.memory.offHeap.enabled\",\"true\").config(\"spark.memory.offHeap.size\",\"10g\").getOrCreate()\n"
   ]
  },
  {
   "cell_type": "code",
   "execution_count": null,
   "metadata": {},
   "outputs": [
    {
     "name": "stdout",
     "output_type": "stream",
     "text": [
      "Generating Pseudopeople Data\n"
     ]
    }
   ],
   "source": [
    "print(\"Generating Pseudopeople Data\")\n",
    "src_1 = '/home/nachiket/RLA_CL_EXTRACT/data/pse/pse_sample4.1.1'\n",
    "src_2 = '/home/nachiket/RLA_CL_EXTRACT/data/pse/pse_sample4.1.2'\n",
    "df_1 = spark.read.csv(src_1, header=True, sep='\\t')\n",
    "df_2 = spark.read.csv(src_2, header=True, sep='\\t')"
   ]
  },
  {
   "cell_type": "code",
   "execution_count": 3,
   "metadata": {},
   "outputs": [
    {
     "name": "stdout",
     "output_type": "stream",
     "text": [
      "+------------+----------+--------------+---------+---+-------------+-------------+-------------+------------+----------+-----+-------+----------------------------+------+--------------+\n",
      "| simulant_id|first_name|middle_initial|last_name|age|date_of_birth|street_number|  street_name| unit_number|      city|state|zipcode|relation_to_reference_person|   sex|race_ethnicity|\n",
      "+------------+----------+--------------+---------+---+-------------+-------------+-------------+------------+----------+-----+-------+----------------------------+------+--------------+\n",
      "|9402_1006023|   Allisom|             M|        A|  0|   05/04/2019|         2415|    dale st s|office # 308|providence|   RI|  02833|            Biological child|Female|         White|\n",
      "|9402_1006023|   Allison|             M|        A|  0|   05/04/2019|         2415|    dale st s|office # 308|providence|   RI|  02833|            Biological child|Female|         White|\n",
      "|1299_1016030|    Alyssa|             M|        A| 18|   01/16/2002|        35750|   stearns st|         nan|   newport|   RI|  02895|           Other nonrelative|Female|         White|\n",
      "| 1091_240060|    Amanda|             T|        A| 38|   09/27/1981|         2101|  bassett ave|         nan|  coventry|   RI|  02909|            Reference person|Female|         Black|\n",
      "| 1933_229727|    Arlene|             K|        A| 49|   09/13/1970|        19814|old warren rd|         nan|  tiverton|   RI|  02860|            Reference person|Female|         White|\n",
      "+------------+----------+--------------+---------+---+-------------+-------------+-------------+------------+----------+-----+-------+----------------------------+------+--------------+\n",
      "only showing top 5 rows\n",
      "\n",
      "+-----------+----------+--------------+---------+---+-------------+-------------+------------+-----------+------------+-----+-------+----------------------------+------+--------------+\n",
      "|simulant_id|first_name|middle_initial|last_name|age|date_of_birth|street_number| street_name|unit_number|        city|state|zipcode|relation_to_reference_person|   sex|race_ethnicity|\n",
      "+-----------+----------+--------------+---------+---+-------------+-------------+------------+-----------+------------+-----+-------+----------------------------+------+--------------+\n",
      "|3298_700403|    Joshua|             H|     Nava| 20|   04/21/1999|          nan|    pansy rd|        nan|  portsmouth|   RI|  02852|        Noninstitutionali...|  Male|         White|\n",
      "|4943_978644|   William|             C|  Acevedo| 50|   03/18/1970|         1710|flying a trl|        nan|         nan|   RI|  02864|        Noninstitutionali...|  Male|        Latino|\n",
      "|  734_60972|     Kenny|             J|   Gatian| 32|   06/14/1988|        12132|  granrud ln|        nan|    cranston|   RI|  02809|              Opp-sex spouse|  Male|         White|\n",
      "|8734_921614|    Angela|             L|  Kennedy| 51|   02/18/1969|         1050|   sunset pl|        nan|burrillville|   RI|  02863|            Reference person|Female|         Black|\n",
      "|5594_143177| Gabrielle|             S|    Husar| 57|   02/15/1963|           21|w pratt boul|        nan|  smithfield|   RI|  02809|              Opp-sex spouse|Female|         White|\n",
      "+-----------+----------+--------------+---------+---+-------------+-------------+------------+-----------+------------+-----+-------+----------------------------+------+--------------+\n",
      "only showing top 5 rows\n",
      "\n"
     ]
    }
   ],
   "source": [
    "df_1.sort(col(\"last_name\"),col(\"first_name\"),col(\"middle_initial\"),col(\"age\"),col(\"street_name\")).show(5)\n",
    "df_1 = df_1.show(5)"
   ]
  },
  {
   "cell_type": "code",
   "execution_count": 4,
   "metadata": {},
   "outputs": [
    {
     "name": "stdout",
     "output_type": "stream",
     "text": [
      "+-----------+----------+--------------+---------+---+-------------+-------------+------------+-----------+------------+-----+-------+----------------------------+------+--------------+\n",
      "|simulant_id|first_name|middle_initial|last_name|age|date_of_birth|street_number| street_name|unit_number|        city|state|zipcode|relation_to_reference_person|   sex|race_ethnicity|\n",
      "+-----------+----------+--------------+---------+---+-------------+-------------+------------+-----------+------------+-----+-------+----------------------------+------+--------------+\n",
      "|3298_700403|    Joshua|             H|     Nava| 20|   04/21/1999|          nan|    pansy rd|        nan|  portsmouth|   RI|  02852|        Noninstitutionali...|  Male|         White|\n",
      "|4943_978644|   William|             C|  Acevedo| 50|   03/18/1970|         1710|flying a trl|        nan|         nan|   RI|  02864|        Noninstitutionali...|  Male|        Latino|\n",
      "|  734_60972|     Kenny|             J|   Gatian| 32|   06/14/1988|        12132|  granrud ln|        nan|    cranston|   RI|  02809|              Opp-sex spouse|  Male|         White|\n",
      "|  734_60972|     Kehny|             J|   Gatian| 32|   06/14/1988|        12132|  granrud ln|        nan|    cranston|   RI|  02809|              Opp-sex spouse|  Male|         White|\n",
      "|8734_921614|    Angela|             L|  Kennedy| 51|   02/18/1969|         1050|   sunset pl|        nan|burrillville|   RI|  02863|            Reference person|Female|         Black|\n",
      "+-----------+----------+--------------+---------+---+-------------+-------------+------------+-----------+------------+-----+-------+----------------------------+------+--------------+\n",
      "only showing top 5 rows\n",
      "\n"
     ]
    }
   ],
   "source": [
    "df_2.show(5)"
   ]
  },
  {
   "cell_type": "code",
   "execution_count": 5,
   "metadata": {},
   "outputs": [
    {
     "name": "stderr",
     "output_type": "stream",
     "text": [
      "[Stage 5:===================>                                       (1 + 2) / 3]\r"
     ]
    },
    {
     "name": "stdout",
     "output_type": "stream",
     "text": [
      "+------------+-----------+--------------+--------------------+---+-------------+-------------+--------------------+-----------+----------------+-----+-------+----------------------------+------+--------------------+\n",
      "| simulant_id| first_name|middle_initial|           last_name|age|date_of_birth|street_number|         street_name|unit_number|            city|state|zipcode|relation_to_reference_person|   sex|      race_ethnicity|\n",
      "+------------+-----------+--------------+--------------------+---+-------------+-------------+--------------------+-----------+----------------+-----+-------+----------------------------+------+--------------------+\n",
      "|1007_1001056|       Judy|             C|           Zimmerman| 31|   10/14/1988|         1957|            ctrl ave|        nan|        scituate|   RI|  02895|              Other relative|Female|               Asian|\n",
      "|1007_1011208|      Jilan|             E|              Potter|  0|   08/28/2019|          177|     st clements ave|        nan|       pawtucket|   RI|  02807|                  Grandchild|   nan|               White|\n",
      "|1007_1011208|      Milan|             E|              Potter|  0|   08/28/2019|          177|     st clements ave|        nan|       pawtucket|   RI|  02807|                  Grandchild|   nan|               White|\n",
      "|1007_1015136|     Josiah|             L|            Brinkley|  0|   11/15/2019|          941|            candy ln|        nan|        coventry|   RI|  02809|            Biological child|  Male|               White|\n",
      "|1007_1019441|  Gabriella|             J|          Nidey-Cone|  0|   02/14/2020|         2889|            157th pl|        nan|      woonsocket|   RI|  02891|                  Grandchild|Female|               White|\n",
      "| 1007_106151|     Jkshua|             C|            Rockmore| 26|   12/18/1993|          nan|          nicole cir|        nan|         warwick|   RI|  02927|            Reference person|  Male|               White|\n",
      "| 1007_106151|     Joshua|             C|            Rockmore| 26|   12/18/1993|          nan|          nicole cir|        nan|         warwick|   RI|  02927|            Reference person|  Male|               White|\n",
      "| 1007_106766|   Jennifer|             C|             Johnson| 44|   07/20/1975|         2915|        baker street|        nan|        cranston|   RI|  02860|            Reference person|Female|               White|\n",
      "| 1007_106766|   Jejnifer|             C|             Johnson| 44|   07/20/1975|         2915|        baker street|        nan|        cranston|   RI|  02860|            Reference person|Female|               White|\n",
      "| 1007_106767|     Eugene|             J|             Johnson| 44|   12/19/1975|         2915|        baker street|        nan|        cranston|   RI|  02860|              Opp-sex spouse|  Male|               White|\n",
      "| 1007_108073|     Hayden|             E|               Jones|  4|   09/18/2015|         2261|             01st st|        nan| north kingstown|   RI|  02888|                  Grandchild|Female|               White|\n",
      "| 1007_108957|    Maryann|             M|                Ryan| 68|   04/08/1951|          321|       nrt haven ave|        nan|       glocester|   RI|  02865|              Opp-sex spouse|Female|               White|\n",
      "| 1007_109045|      Susan|             C|                 nan| 65|   06/09/1954|          559|      somerset stree|        nan|   wst greenwich|   RI|  02879|            Reference person|Female|               White|\n",
      "| 1007_114831|     Angrps|             H|           Basmajian| 36|   04/07/1983|          911|          wambplt st|        nan| east providence|   RI|  02840|              Opp-sex spouse|Female|               White|\n",
      "| 1007_119226|        nan|             J|                Reid| 74|   09/07/1945|         2060|           73 avenue|        nan|    narragansett|   RI|  02904|              Opp-sex spouse|  Male|               Black|\n",
      "| 1007_121433|     Josuua|             S|             Colbert| 20|   05/28/1999|           14|       snuff mill rd|        nan|         newport|   RI|  02861|            Biological child|  Male|               White|\n",
      "| 1007_121433|     Joshua|             S|             Colbert| 20|   05/28/1999|           14|       snuff mill rd|        nan|         newport|   RI|  02861|            Biological child|  Male|               White|\n",
      "| 1007_126493|      Homer|             K|             Murdoch| 77|   02/26/1943|        37059|          davlin ave|        nan|        coventry|   RI|  02879|            Reference person|  Male|               White|\n",
      "|  1007_12842|     Dengis|             J|             Omalley| 68|   04/03/1951|           71|           30th st w|        nan|      providence|   RI|  02905|            Reference person|  Male|               White|\n",
      "|  1007_12842|     Dennis|             J|             Omalley| 68|   04/03/1951|           71|           30th st w|        nan|      providence|   RI|  02905|            Reference person|  Male|               White|\n",
      "| 1007_137263|    Krystal|             S|             Campana| 28|   01/26/1992|           23| landavo rancho road|        nan| south kingstown|   RI|  02903|            Reference person|Female|               White|\n",
      "| 1007_140898|   Caileigh|             B|              Reagan|  4|   09/08/2065|          112|      sophie cirvcle|        nan|        cranston|   RI|  02904|            Biological child|Female|              Latino|\n",
      "| 1007_140898|   Caileigh|             B|              Reagan|  4|   09/08/2065|          112|       sophie circle|        nan|        cranston|   RI|  02904|            Biological child|Female|              Latino|\n",
      "| 1007_146693|   Kimberly|             T|              Hewitt| 39|   06/08/1980|         9959|            grant st|        nan|         warwick|   RI|  02888|            Reference person|Female|               White|\n",
      "| 1007_151720|    Michael|             M|             Pittman|  7|   05/07/2012|         1124|        wiggins road|        nan|        westerly|   RI|  02809|            Biological child|  Male|               Black|\n",
      "| 1007_151953|    William|             N|             Ferrell| 26|   05/19/1993|          241|         riverside d|        nan|    e providence|   RI|  02816|            Reference person|  Male|               White|\n",
      "|  1007_15223|    Russell|             J|                Diaz| 56|   11/26/1963|           91|        ferndale ave|        nan| prudence island|   RI|  02818|            Reference person|  Male|              Latino|\n",
      "| 1007_155290|     Robert|             S|                Gold| 33|   09/27/1986|          nan|       andromeda cir|        nan|      middletown|   RI|  02860|            Reference person|  Male|               White|\n",
      "| 1007_163108|   Samantha|           nan|               Smith| 21|   05/17/1998|          104|   east lexington st|        nan|          exeter|   RI|  02909|            Biological child|Female|               Black|\n",
      "| 1007_163446|   Resident|           nan|                Crue|nan|   07/25/1957|         4620|          s 288th st|        nan|        cranston|   RI|  02911|            Reference person|Female|              Latino|\n",
      "| 1007_164006|     Thomas|             N|               Young| 23|   11/10/1996|           11|        sw mukai cir|        nan|        coventry|   RI|    nan|                  Grandchild|  Male|                AIAN|\n",
      "| 1007_174298|      Brent|             J|              Martin| 48|   01/23/1972|          nan|                 nan|        nan|         warwick|   RI|  02906|            Reference person|  Male|              Latino|\n",
      "| 1007_181763|      Reese|             J|                Pina| 16|   01/25/2004|         1338|      e over look dr|        nan|         lincoln|   RI|  02908|            Biological child|Female|              Latino|\n",
      "| 1007_181763|      Feese|             J|                Pina| 16|   01/25/2004|         1338|      e over look dr|        nan|         lincoln|   RI|  02908|            Biological child|Female|              Latino|\n",
      "| 1007_181764|    Allison|             D|                Pina| 14|   11/10/2005|         1338|      e over look dr|        nan|         lincoln|   RI|  02908|                      Parent|Female|              Latino|\n",
      "| 1007_182046|      Scott|             M|              Galang| 34|   04/13/1985|        21250|                bdwy|        nan|         warwick|   RI|  02909|            Biological child|  Male|               Asian|\n",
      "| 1007_194203|   Fernando|             B|             Wegener| 18|   06/08/2001|        19176|         43rd ave ne|        nan|          warren|   RI|  02860|            Biological child|Female|              Latino|\n",
      "|  1007_19442|   Margaret|             J|            Mitchell| 29|   09/21/1990|          307|    burnt store rd n|        nan|     charlestown|   RI|  02909|              Opp-sex spouse|Female|              Latino|\n",
      "| 1007_194881|     Hannah|             T|               Smith| 18|   08/15/2001|           41|               n a1a|        nan|         warwick|   RI|  02908|            Biological child|Female|               White|\n",
      "| 1007_198778|      Debra|             A|            Anderson| 61|   07/25/1958|        17390|          bayhill wy|        nan|       glocester|   RI|  02889|              Opp-sex spouse|Female|               White|\n",
      "| 1007_210822|      Celia|             C|     Villagran Gomez| 49|   06/23/1970|         2432|      w palo brea ln|        nan|        richmond|   RI|  02860|            Reference person|Female|              Latino|\n",
      "| 1007_210822|      Celua|             C|     Villagran Gomez| 49|   06/23/1970|         2432|      w palo brea ln|        nan|        richmond|   RI|  02860|            Reference person|Female|              Latino|\n",
      "| 1007_212434|     Aienna|             N|              Roller| 12|   08/13/2007|         2412|           thames ro|        nan|          warren|   RI|  02919|                  Grandchild|Female|Multiracial or Other|\n",
      "| 1007_212434|     Sienna|             N|              Roller| 12|   08/13/2007|         2412|           thames ro|        nan|          warren|   RI|  02919|                  Grandchild|Female|Multiracial or Other|\n",
      "| 1007_217762|       Ange|             D|             Dingess| 64|   01/17/1956|         3100|          wingate ct|        nan|      providence|   RI|  02895|            Reference person|Female|               White|\n",
      "| 1007_217762|       Anne|             D|             Dingess| 64|   01/17/1956|         3100|          wingate ct|        nan|      providence|   RI|  02895|            Reference person|Female|               White|\n",
      "| 1007_237923|Christopher|             W|             Randall| 28|   02/24/1992|         1709|             mohr av|        nan|             nan|   RI|  02895|            Reference person|  Male|               Black|\n",
      "| 1007_240426|      Diane|             D|              Bakken| 74|   02/18/1946|           26|           drake ave|        nan|      middletown|   RI|  02904|              Opp-sex spouse|Female|               Asian|\n",
      "| 1007_240720|  Elizabeth|             L|              Dawson|  3|   08/25/2016|            9|          90th ave s|        nan|north-smithfield|   RI|  02806|            Biological child|Female|               Black|\n",
      "| 1007_248312|   Franklin|             F|                Doby| 46|   10/30/1973|        24165|        inwood drive|        nan|       pawtucket|   RI|  02888|            Reference person|  Male|               White|\n",
      "| 1007_248885|        nan|             C|             Orourke| 73|   01/31/1947|            8|            caper pl|        nan|      providence|   RI|  02809|              Opp-sex spouse|Female|               White|\n",
      "| 1007_249198|     Taylor|             R|               Bloom| 27|   02/05/1993|         1811|         13th street|        nan|        cranston|   RI|  02881|            Reference person|Female|               White|\n",
      "| 1007_252469|        nan|             G|              Callas| 69|   03/07/1951|         1671|    gleneagles drive|        nan|        cranston|   RI|  02906|            Reference person|  Male|               White|\n",
      "|  1007_25698|      Keith|             J|             Johnson| 50|   06/16/1969|         4612| pheasant hill drive|        nan| north kingstown|   RI|  02816|            Reference person|  Male|               White|\n",
      "|  1007_25847|      Kevan|             D|                Koch| 56|   10/21/1963|         1205|           60th dr e|        nan|      portsmouth|   RI|    nan|            Reference person|  Male|               White|\n",
      "| 1007_261332|        Sal|             C|              Garner| 75|  204/12/2571|            9|        broadview rd|        nan|         warwick|   RI|  02895|              Opp-sex spouse|  Male|               White|\n",
      "| 1007_261332|        Sal|             C|              Garner| 75|  204/12/2571|            9|        broasview rd|        nan|         warwick|   RI|  02895|              Opp-sex spouse|  Male|               White|\n",
      "| 1007_274761|      Grisn|             D|              Carter| 37|   05/26/1982|          150|   herbert boulevard|        nan|      providence|   RI|  02889|            Reference person|  Male|              Latino|\n",
      "| 1007_282159|    Kennedy|             A|              Thomas|  7|   12/26/2012|           14|     rose garden way|        nan|       pawtucket|   RI|  02909|            Biological child|Female|               White|\n",
      "| 1007_283352|       Anna|             P|           Hassinger| 89|   12/19/1930|          427|         flamingo dr|        nan|      portsmouth|   RI|  02893|            Reference person|Female|               White|\n",
      "| 1007_285146|       Judy|             S|               Jones| 51|   04/12/1968|        13122|      prospect vw dr|        nan|      portsmouth|   RI|  02916|              Opp-sex spouse|Female|               White|\n",
      "| 1007_286043|       Ryan|             D|          Litherland| 61|   03/01/1959|        12533| weathers creek road|        nan|      cumberland|   RI|  02911|            Reference person|  Male|               White|\n",
      "| 1007_290389|      Harry|             S|                Holt| 51|   09/12/1968|          210|             park st|        nan|       jamestown|   RI|  02885|              Opp-sex spouse|  Male|               White|\n",
      "| 1007_291848|    Michael|             D|           Collantes| 65|   07/04/1954|          nan|           taylor pl|        nan|        cranston|   RI|  02909|            Reference person|  Male|              Latino|\n",
      "| 1007_293624|     Curtis|             E|                Ober| 58|   07/24/1961|         5514|      knox mc rae dr|        nan|    e providence|   RI|  02816|            Reference person|  Male|               White|\n",
      "| 1007_294303|  Alexander|             G|            Brinkley| 31|   08/30/1988|          941|            candy ln|        nan|        coventry|   RI|  02809|            Reference person|  Male|               Black|\n",
      "| 1007_294555|    Jeffrey|           nan|            Williams| 22|   06/17/1997|          425|         dimmick ave|        nan|      smithfield|   RI|  02886|            Biological child|  Male|                 nan|\n",
      "|  1007_30143|      Alexa|             M|           Hernandez| 20|   07/19/1999|         2273|          14gh ave s|        nan|      providence|   RI|  02889|           Other nonrelative|Female|              Latino|\n",
      "|  1007_30143|      Alexa|             M|           Hernandez| 20|   07/19/1999|         2273|          14th ave s|        nan|      providence|   RI|  02889|           Other nonrelative|Female|              Latino|\n",
      "| 1007_301599|       Mary|             N|             Sellman| 34|   01/23/1986|         4928|     atlantis avenue|        nan|     charlestown|   RI|  02886|            Reference person|Female|               White|\n",
      "|  1007_30340|    Kaitlyn|             S|             Alvarez| 12|   05/05/2007|         1827|       fairfield ave|        nan|       pawtucket|   RI|  02909|            Biological child|Female|              Latino|\n",
      "| 1007_303994|  Katherine|             M|             Hopmann| 45|   05/25/1974|        28950|       8th street nw|        nan|         warwick|   RI|  02860|            Reference person|Female|              Latino|\n",
      "|  1007_30718|     Lucero|             J|             Maxwell| 24|   02/28/1996|         1512|          ardmore ro|        nan|         warwick|   RI|  02860|            Biological child|Female|               White|\n",
      "| 1007_324259|    Anthony|             T|            Wiedrick| 14|   07/18/2005|         2100|         main street|        nan|         warwick|   RI|  02840|            Biological child|  Male|               White|\n",
      "| 1007_328383|     Jayden|             W|              Taylor|  5|   12/26/2014|         1766|       locust avenue|        nan|      portsmouth|   RI|  02817|            Biological child|  Male|               White|\n",
      "| 1007_331174|   Angelina|             T|           Ruvalcaba|  3|   09/06/2016|         4236|       grande vst pl|      9th l|  east greenwich|   RI|  02861|            Biological child|Female|              Latino|\n",
      "| 1007_331174|   Angelkna|             T|           Ruvalcaba|  3|   09/06/2016|         4236|       grande vst pl|      9th l|  east greenwich|   RI|  02861|            Biological child|Female|              Latino|\n",
      "| 1007_342824|     Sherry|             T|              Turner| 74|   03/11/1946|        15040|        243rd ave ne|        nan|    so kingstown|   RI|  02886|            Reference person|Female|               White|\n",
      "| 1007_347543|      Shaun|             J|                 Bui| 39|   07/08/1980|          410|        147th ave se|        nan| east providence|   RI|  02908|            Reference person|  Male|               Asian|\n",
      "| 1007_347543|      Smaun|             J|                 Bui| 39|   07/08/1980|          410|        147th ave se|        nan| east providence|   RI|  02908|            Reference person|  Male|               Asian|\n",
      "| 1007_350385|      Sarah|             O|               Riley| 10|   03/16/2010|         2425|      amherst street|        nan|  nort kingstown|   RI|  02871|            Biological child|Female|               White|\n",
      "| 1007_357021|     Thomas|             P|              Guzman|  9|   01/25/2011|           33|         proctor ave|        nan|      providence|   RI|  02909|            Biological child|  Male|              Latino|\n",
      "| 1007_362923|     Joseph|             F|             Michael| 79|   02/07/1941|          606|      kimberly court|        nan|          exeter|   RI|  02828|            Reference person|  Male|               White|\n",
      "| 1007_374443|      Nadia|             F|              Thomas| 10|   12/23/2009|         7654|southwest tallwoo...|        nan|          exeter|   RI|  02863|            Biological child|Female|               White|\n",
      "| 1007_376909|    Deborau|             J|              Breuer| 54|   12/05/1965|          509|         dockser ter|        nan|      woonsocket|   RI|  02840|            Reference person|Female|               White|\n",
      "| 1007_376909|    Deborah|             J|              Breuer| 54|   12/05/1965|          509|         dockser ter|        nan|      woonsocket|   RI|  02840|            Reference person|Female|               White|\n",
      "| 1007_385236|    Michzel|             S|              Smiley| 39|   03/13/1981|         3017|              sth 83|        nan|         bristol|   RI|  02907|            Reference person|  Male|               White|\n",
      "| 1007_385236|    Michael|             S|              Smiley| 39|   03/13/1981|         3017|              sth 83|        nan|         bristol|   RI|  02907|            Reference person|  Male|               White|\n",
      "| 1007_392738|        Ann|             L|                Ruhl| 78|   11/08/1941|         1057|      murphey street|        nan|      portsmouth|   RI|  02840|              Opp-sex spouse|Female|               White|\n",
      "| 1007_393948|     Marcus|             S|              Potter| 31|   03/08/1989|          177|     st clements ave|        nan|       pawtucket|   RI|  02807|            Biological child|  Male|               White|\n",
      "| 1007_402670|    Chelsea|             A|              Jacobo| 23|   04/01/1996|         6235|         maplewood d|        nan|         lincoln|   RI|    nan|                   Stepchild|Female|              Latino|\n",
      "| 1007_402670|    Chelxea|             A|              Jacobo| 23|   04/01/1996|         6235|         maplewood d|        nan|         lincoln|   RI|    nan|                   Stepchild|Female|              Latino|\n",
      "| 1007_407473|    Jazzlyn|             C|Garciagarcia-Navarro| 14|   04/26/2005|         1002|         jarcella ct|        nan|         newport|   RI|  02860|            Biological child|Female|               White|\n",
      "| 1007_407473|    Jazzlyn|             C|Garciagarcia-Navarro| 14|   04/26/2005|         1002|         marcella ct|        nan|         newport|   RI|  02860|            Biological child|Female|               White|\n",
      "| 1007_408412|       Lori|             K|          Cunningham| 56|   07/02/1963|         2306|          ne 95th st|        nan|      middletown|   RI|  02842|              Opp-sex spouse|Female|               White|\n",
      "| 1007_423695|     Joseph|             E|              Moreno| 20|   04/30/1999|         3065|        ocala avenue|        nan|        cranston|  nan|  02893|                  Grandchild|  Male|              Latino|\n",
      "| 1007_426733|       Jose|             J|            Christen| 34|   08/07/1985|           65|       pennsbury way|        nan|north smithfield|   RI|  02859|              Opp-sex spouse|  Male|               White|\n",
      "| 1007_426733|       Yose|             J|            Christen| 34|   08/07/1985|           65|       pennsbury way|        nan|north smithfield|   RI|  02859|              Opp-sex spouse|  Male|               White|\n",
      "| 1007_426735|     Carlis|             C|            Christen|  1|   12/04/2018|           65|       pennsbury way|        nan|north smithfield|   RI|  02859|            Biological child|  Male|               White|\n",
      "| 1007_426735|     Carlos|             C|            Christen|  1|   12/04/2018|           65|       pennsbury way|        nan|north smithfield|   RI|  02859|            Biological child|  Male|               White|\n",
      "+------------+-----------+--------------+--------------------+---+-------------+-------------+--------------------+-----------+----------------+-----+-------+----------------------------+------+--------------------+\n",
      "only showing top 100 rows\n",
      "\n"
     ]
    },
    {
     "name": "stderr",
     "output_type": "stream",
     "text": [
      "                                                                                \r"
     ]
    }
   ],
   "source": [
    "\n",
    "df_2_new = df_2.drop_duplicates(subset= list(df_2.columns)[1:])\n",
    "\n",
    "df_2_new.sort(col(\"simulant_id\")).show(100)\n",
    "\n"
   ]
  },
  {
   "cell_type": "code",
   "execution_count": null,
   "metadata": {},
   "outputs": [
    {
     "name": "stdout",
     "output_type": "stream",
     "text": [
      "+------------+----------+--------------+---------+---+-------------+-------------+-------------------+-----------+------------+-----+-------+----------------------------+------+--------------+--------------------+\n",
      "| simulant_id|first_name|middle_initial|last_name|age|date_of_birth|street_number|        street_name|unit_number|        city|state|zipcode|relation_to_reference_person|   sex|race_ethnicity|               kmers|\n",
      "+------------+----------+--------------+---------+---+-------------+-------------+-------------------+-----------+------------+-----+-------+----------------------------+------+--------------+--------------------+\n",
      "|  6760_48339|         A|             M|  Lindsey|  4|   12/31/2015|          604|           c.r. 655|        nan|     warwick|   RI|  02914|              Other relative|  Male|           nan|[Lin, ind, nds, d...|\n",
      "|  7016_43372|         A|             M| Jauregui| 17|   01/11/2003|         1509|          timber dr|        nan|    westerly|   RI|  02907|            Biological child|Female|           nan|[Jau, aur, ure, r...|\n",
      "| 6975_353391|  AWikliam|             M|     Hook| 46|   05/16/1973|           16|     wagon wheel wy|        nan|   glocester|   RI|    nan|              Opp-sex spouse|  Male|         White|          [Hoo, ook]|\n",
      "| 5670_663599|     Aadon|             N|  Griffin| 28|   07/24/1991|         1900|       thorngate dr|        nan|    westerly|   RI|  02852|           Other nonrelative|  Male|         White|[Gri, rif, iff, f...|\n",
      "|8628_1017723|   Aaliyah|             M|    Young|  0|   01/13/2020|         1111|          n 70th st|        nan|   hopkinton|   RI|  02911|           Other nonrelative|Female|         White|     [You, oun, ung]|\n",
      "| 7164_676344|   Aaliyah|             E|   Cobian| 16|   06/09/2003|         1277|          w kino dr|        nan|  portsmouth|   RI|  02908|                  Grandchild|Female|        Latino|[Cob, obi, bia, ian]|\n",
      "| 6554_657053|   Aaliyah|             L|  Dorsett| 13|   03/14/2007|         4001|mitchells chapel rd|        nan|west warwick|   RI|  02879|            Biological child|Female|         White|[Dor, ors, rse, s...|\n",
      "| 5619_819070|  Aamantta|             J|     Gwin| 22|   07/22/1997|      nº 1867|   wild stallion dr|        nan|  providence|   RI|  02809|            Biological child|Female|         White|          [Gwi, win]|\n",
      "|9804_1008442|     Aanya|             A|  Richman|  0|   76/21/2019|           69|       hammerle roa|        nan|   pawtucket|   RI|  02817|                  Grandchild|Female|         White|[Ric, ich, chm, h...|\n",
      "| 2477_708459|     Aarob|             J|   Perera| 39|   06/05/1980|        15320|         calhoun st|        nan|     bristol|   RI|  02831|            Reference person|  Male|         Asian|[Per, ere, rer, era]|\n",
      "+------------+----------+--------------+---------+---+-------------+-------------+-------------------+-----------+------------+-----+-------+----------------------------+------+--------------+--------------------+\n",
      "only showing top 10 rows\n",
      "\n"
     ]
    }
   ],
   "source": [
    "\n",
    "k = 3\n",
    "\n",
    "def generate_k_mer(str_d):\n",
    "    if len(str_d) <= k:\n",
    "        return [str_d]\n",
    "\n",
    "    return [str_d[i:i+k] for i in range(0, len(str_d)-(k-1))]\n",
    "\n",
    "\n",
    "kmer_udf = udf(lambda seq: generate_k_mer(seq), ArrayType(StringType()))\n",
    "\n",
    "df_2_new = df_2_new.withColumn(\"kmers\", kmer_udf(col(\"last_name\")))\n",
    "\n",
    "df_2_new.show(10)\n",
    "\n"
   ]
  },
  {
   "cell_type": "code",
   "execution_count": null,
   "metadata": {},
   "outputs": [],
   "source": [
    "## Blocking Code\n",
    "\n",
    "from pyspark.sql.types import MapType,IntegerType\n",
    "\n",
    "## 1. Add index to the dataframe\n",
    "## 2. Determine the datatype in the value of the MapType declared below\n",
    "## 3. Go through all the k-mers and do blocking\n",
    "\n",
    "map_type_non_nullable = MapType(StringType(), ArrayType(IntegerType(),False), False)\n",
    "\n",
    "\n"
   ]
  }
 ],
 "metadata": {
  "kernelspec": {
   "display_name": "Python 3",
   "language": "python",
   "name": "python3"
  },
  "language_info": {
   "codemirror_mode": {
    "name": "ipython",
    "version": 3
   },
   "file_extension": ".py",
   "mimetype": "text/x-python",
   "name": "python",
   "nbconvert_exporter": "python",
   "pygments_lexer": "ipython3",
   "version": "3.10.12"
  }
 },
 "nbformat": 4,
 "nbformat_minor": 2
}
